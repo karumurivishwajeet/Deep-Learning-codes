{
  "nbformat": 4,
  "nbformat_minor": 0,
  "metadata": {
    "colab": {
      "provenance": [],
      "collapsed_sections": []
    },
    "kernelspec": {
      "name": "python3",
      "display_name": "Python 3"
    },
    "language_info": {
      "name": "python"
    },
    "accelerator": "GPU"
  },
  "cells": [
    {
      "cell_type": "markdown",
      "source": [
        "\n",
        "## Autoencoder on MNIST dataset\n",
        "\n"
      ],
      "metadata": {
        "id": "rCnVNUN-UsTr"
      }
    },
    {
      "cell_type": "code",
      "execution_count": null,
      "metadata": {
        "id": "xQBzddB3Uojk"
      },
      "outputs": [],
      "source": [
        "import tensorflow as tf\n",
        "import numpy as np\n",
        "from matplotlib import pyplot as plt"
      ]
    },
    {
      "cell_type": "code",
      "source": [
        "(train_imgs, train_labels), (test_imgs, test_labels) = tf.keras.datasets.mnist.load_data()\n",
        "train_imgs = train_imgs.astype('float32') / 255.\n",
        "test_imgs = test_imgs.astype('float32') / 255.\n",
        "train_imgs = train_imgs.reshape((len(train_imgs), np.prod(train_imgs.shape[1:])))\n",
        "test_imgs = test_imgs.reshape((len(test_imgs), np.prod(test_imgs.shape[1:])))\n",
        "labeled_indices = np.random.choice(60000, replace=False, size=1000)\n",
        "image_subset = train_imgs[labeled_indices]\n",
        "label_susbet = train_labels[labeled_indices]\n",
        "print(train_imgs.shape)\n",
        "print(test_imgs.shape)"
      ],
      "metadata": {
        "colab": {
          "base_uri": "https://localhost:8080/"
        },
        "id": "Za4V_cHpcvWX",
        "outputId": "982a472e-df3a-4831-c6b6-4c913efa6b60"
      },
      "execution_count": null,
      "outputs": [
        {
          "output_type": "stream",
          "name": "stdout",
          "text": [
            "(60000, 784)\n",
            "(10000, 784)\n"
          ]
        }
      ]
    },
    {
      "cell_type": "code",
      "source": [
        "code_shape = 32\n",
        "image_input = tf.keras.Input((784, ))\n",
        "encoding_1 = tf.keras.layers.Dense(64, activation=tf.nn.relu)(image_input)\n",
        "encoding_2 = tf.keras.layers.Dense(code_shape, activation=tf.nn.relu)(encoding_1)\n",
        "encoder = tf.keras.Model(image_input, encoding_2)\n",
        "\n",
        "code_input = tf.keras.Input((code_shape,))\n",
        "decoding_1 = tf.keras.layers.Dense(64, activation=tf.nn.relu)(code_input)\n",
        "decoding_2 = tf.keras.layers.Dense(784, activation=tf.nn.sigmoid)(decoding_1)\n",
        "decoder = tf.keras.Model(code_input, decoding_2)\n",
        "\n",
        "autoencoder = tf.keras.Model(image_input, decoder(encoder(image_input)))\n",
        "\n",
        "autoencoder.compile(optimizer=tf.optimizers.Adam(), loss=tf.losses.BinaryCrossentropy())\n",
        "\n",
        "autoencoder.fit(train_imgs, train_imgs, epochs=30, batch_size=256)\n",
        "\n"
      ],
      "metadata": {
        "id": "fi42Zk7PVktH",
        "colab": {
          "base_uri": "https://localhost:8080/"
        },
        "outputId": "0f9d5072-3b67-4709-a1ab-85b49e064aef"
      },
      "execution_count": null,
      "outputs": [
        {
          "output_type": "stream",
          "name": "stdout",
          "text": [
            "Epoch 1/30\n",
            "235/235 [==============================] - 4s 5ms/step - loss: 0.2521\n",
            "Epoch 2/30\n",
            "235/235 [==============================] - 1s 5ms/step - loss: 0.1547\n",
            "Epoch 3/30\n",
            "235/235 [==============================] - 1s 5ms/step - loss: 0.1310\n",
            "Epoch 4/30\n",
            "235/235 [==============================] - 1s 5ms/step - loss: 0.1210\n",
            "Epoch 5/30\n",
            "235/235 [==============================] - 1s 5ms/step - loss: 0.1151\n",
            "Epoch 6/30\n",
            "235/235 [==============================] - 1s 5ms/step - loss: 0.1110\n",
            "Epoch 7/30\n",
            "235/235 [==============================] - 1s 5ms/step - loss: 0.1078\n",
            "Epoch 8/30\n",
            "235/235 [==============================] - 1s 5ms/step - loss: 0.1055\n",
            "Epoch 9/30\n",
            "235/235 [==============================] - 1s 5ms/step - loss: 0.1036\n",
            "Epoch 10/30\n",
            "235/235 [==============================] - 1s 5ms/step - loss: 0.1022\n",
            "Epoch 11/30\n",
            "235/235 [==============================] - 1s 5ms/step - loss: 0.1009\n",
            "Epoch 12/30\n",
            "235/235 [==============================] - 1s 5ms/step - loss: 0.0998\n",
            "Epoch 13/30\n",
            "235/235 [==============================] - 1s 5ms/step - loss: 0.0988\n",
            "Epoch 14/30\n",
            "235/235 [==============================] - 1s 5ms/step - loss: 0.0980\n",
            "Epoch 15/30\n",
            "235/235 [==============================] - 1s 5ms/step - loss: 0.0973\n",
            "Epoch 16/30\n",
            "235/235 [==============================] - 1s 5ms/step - loss: 0.0966\n",
            "Epoch 17/30\n",
            "235/235 [==============================] - 1s 5ms/step - loss: 0.0960\n",
            "Epoch 18/30\n",
            "235/235 [==============================] - 1s 5ms/step - loss: 0.0956\n",
            "Epoch 19/30\n",
            "235/235 [==============================] - 1s 5ms/step - loss: 0.0951\n",
            "Epoch 20/30\n",
            "235/235 [==============================] - 1s 5ms/step - loss: 0.0947\n",
            "Epoch 21/30\n",
            "235/235 [==============================] - 1s 5ms/step - loss: 0.0944\n",
            "Epoch 22/30\n",
            "235/235 [==============================] - 1s 5ms/step - loss: 0.0940\n",
            "Epoch 23/30\n",
            "235/235 [==============================] - 1s 5ms/step - loss: 0.0936\n",
            "Epoch 24/30\n",
            "235/235 [==============================] - 1s 5ms/step - loss: 0.0932\n",
            "Epoch 25/30\n",
            "235/235 [==============================] - 1s 5ms/step - loss: 0.0929\n",
            "Epoch 26/30\n",
            "235/235 [==============================] - 1s 5ms/step - loss: 0.0925\n",
            "Epoch 27/30\n",
            "235/235 [==============================] - 1s 5ms/step - loss: 0.0922\n",
            "Epoch 28/30\n",
            "235/235 [==============================] - 1s 5ms/step - loss: 0.0919\n",
            "Epoch 29/30\n",
            "235/235 [==============================] - 1s 5ms/step - loss: 0.0916\n",
            "Epoch 30/30\n",
            "235/235 [==============================] - 1s 5ms/step - loss: 0.0913\n"
          ]
        },
        {
          "output_type": "execute_result",
          "data": {
            "text/plain": [
              "<keras.callbacks.History at 0x7fa87034f110>"
            ]
          },
          "metadata": {},
          "execution_count": 3
        }
      ]
    },
    {
      "cell_type": "code",
      "source": [
        "encoded_imgs = encoder.predict(test_imgs)\n",
        "decoded_imgs = decoder.predict(encoded_imgs)"
      ],
      "metadata": {
        "id": "l5WCWjdndeQ1"
      },
      "execution_count": null,
      "outputs": []
    },
    {
      "cell_type": "code",
      "source": [
        "n = 10 \n",
        "plt.figure(figsize=(20, 4))\n",
        "for i in range(n):\n",
        "    ax = plt.subplot(2, n, i + 1)\n",
        "    plt.imshow(test_imgs[i].reshape(28, 28))\n",
        "    plt.gray()\n",
        "    ax.get_xaxis().set_visible(False)\n",
        "    ax.get_yaxis().set_visible(False)\n",
        "\n",
        "    ax = plt.subplot(2, n, i + 1 + n)\n",
        "    plt.imshow(decoded_imgs[i].reshape(28, 28))\n",
        "    plt.gray()\n",
        "    ax.get_xaxis().set_visible(False)\n",
        "    ax.get_yaxis().set_visible(False)\n",
        "plt.show()"
      ],
      "metadata": {
        "colab": {
          "base_uri": "https://localhost:8080/",
          "height": 248
        },
        "id": "USxH2ExAb9UF",
        "outputId": "8fd2042c-0bc1-4c34-eb1e-f14358ac9039"
      },
      "execution_count": null,
      "outputs": [
        {
          "output_type": "display_data",
          "data": {
            "image/png": "[encoded data removed]",
            "text/plain": [
              "<Figure size 1440x288 with 20 Axes>"
            ]
          },
          "metadata": {
            "needs_background": "light"
          }
        }
      ]
    },
    {
      "cell_type": "code",
      "source": [
        "\n",
        "small_data = image_subset.astype('float32') / 255.\n",
        "small_data = small_data.reshape((len(small_data), np.prod(small_data.shape[1:])))\n",
        "decoded_images=autoencoder.predict(small_data) \n",
        "train_labels = tf.keras.utils.to_categorical(label_susbet,10)\n",
        "test_labels = tf.keras.utils.to_categorical(test_labels,10)\n",
        "\n",
        "model = tf.keras.Sequential()\n",
        "model.add(tf.keras.layers.Dense(128, activation=tf.nn.relu))\n",
        "model.add(tf.keras.layers.Dense(64, activation=tf.nn.relu))\n",
        "model.add(tf.keras.layers.Dense(32, activation=tf.nn.relu))\n",
        "model.add(tf.keras.layers.Dense(10, activation=tf.nn.softmax))\n",
        "model.compile(optimizer=tf.optimizers.Adam(), \n",
        "              loss = tf.keras.losses.CategoricalCrossentropy(),\n",
        "              metrics = tf.keras.metrics.CategoricalAccuracy())\n",
        "model.fit(decoded_images, train_labels, batch_size=128,epochs=10,validation_data=(test_imgs,test_labels))"
      ],
      "metadata": {
        "colab": {
          "base_uri": "https://localhost:8080/"
        },
        "id": "R-vdCv4t1Tp4",
        "outputId": "63717675-e8cd-4f35-efd3-f6011d7cbb37"
      },
      "execution_count": null,
      "outputs": [
        {
          "output_type": "stream",
          "name": "stdout",
          "text": [
            "Epoch 1/10\n",
            "8/8 [==============================] - 1s 81ms/step - loss: 2.3008 - categorical_accuracy: 0.1150 - val_loss: 2.6009 - val_categorical_accuracy: 0.1137\n",
            "Epoch 2/10\n",
            "8/8 [==============================] - 0s 51ms/step - loss: 2.2976 - categorical_accuracy: 0.1210 - val_loss: 3.1948 - val_categorical_accuracy: 0.1135\n",
            "Epoch 3/10\n",
            "8/8 [==============================] - 0s 40ms/step - loss: 2.2959 - categorical_accuracy: 0.1210 - val_loss: 3.7571 - val_categorical_accuracy: 0.1135\n",
            "Epoch 4/10\n",
            "8/8 [==============================] - 0s 39ms/step - loss: 2.2959 - categorical_accuracy: 0.1210 - val_loss: 4.2230 - val_categorical_accuracy: 0.1135\n",
            "Epoch 5/10\n",
            "8/8 [==============================] - 0s 43ms/step - loss: 2.2957 - categorical_accuracy: 0.1210 - val_loss: 3.5506 - val_categorical_accuracy: 0.1135\n",
            "Epoch 6/10\n",
            "8/8 [==============================] - 0s 51ms/step - loss: 2.2951 - categorical_accuracy: 0.1210 - val_loss: 3.5118 - val_categorical_accuracy: 0.1165\n",
            "Epoch 7/10\n",
            "8/8 [==============================] - 0s 40ms/step - loss: 2.2946 - categorical_accuracy: 0.1210 - val_loss: 3.7480 - val_categorical_accuracy: 0.1135\n",
            "Epoch 8/10\n",
            "8/8 [==============================] - 0s 43ms/step - loss: 2.2945 - categorical_accuracy: 0.1210 - val_loss: 3.7164 - val_categorical_accuracy: 0.1135\n",
            "Epoch 9/10\n",
            "8/8 [==============================] - 0s 42ms/step - loss: 2.2942 - categorical_accuracy: 0.1210 - val_loss: 3.5088 - val_categorical_accuracy: 0.1139\n",
            "Epoch 10/10\n",
            "8/8 [==============================] - 0s 52ms/step - loss: 2.2943 - categorical_accuracy: 0.1210 - val_loss: 3.1495 - val_categorical_accuracy: 0.1324\n"
          ]
        },
        {
          "output_type": "execute_result",
          "data": {
            "text/plain": [
              "<keras.callbacks.History at 0x7fa7fb4cbd90>"
            ]
          },
          "metadata": {},
          "execution_count": 6
        }
      ]
    },
    {
      "cell_type": "code",
      "source": [
        "(train_imgs, train_labels), (test_imgs, test_labels) = tf.keras.datasets.mnist.load_data()\n",
        "input = tf.keras.layers.Input(shape=(28, 28, 1))\n",
        "train_imgs = train_imgs.astype('float32') / 255.\n",
        "train_imgs = train_imgs.reshape(-1,28,28,1)\n",
        "labeled_indices = np.random.choice(60000, replace=False, size=1000)\n",
        "image_subset = train_imgs[labeled_indices]\n",
        "label_susbet = train_labels[labeled_indices]\n",
        "test_imgs = test_imgs.astype('float32') / 255.\n",
        "test_imgs = test_imgs.reshape(-1,28,28,1)\n",
        "\n",
        "# Encoder\n",
        "x = tf.keras.layers.Conv2D(32, (3, 3), activation=\"relu\", padding=\"same\")(input)\n",
        "x = tf.keras.layers.MaxPooling2D((2, 2), padding=\"same\")(x)\n",
        "x = tf.keras.layers.Conv2D(32, (3, 3), activation=\"relu\", padding=\"same\")(x)\n",
        "x = tf.keras.layers.MaxPooling2D((2, 2), padding=\"same\")(x)\n",
        "\n",
        "# Decoder\n",
        "x = tf.keras.layers.Conv2DTranspose(32, (3, 3), strides=2, activation=\"relu\", padding=\"same\")(x)\n",
        "x = tf.keras.layers.Conv2DTranspose(32, (3, 3), strides=2, activation=\"relu\", padding=\"same\")(x)\n",
        "x = tf.keras.layers.Conv2D(1, (3, 3), activation=\"sigmoid\", padding=\"same\")(x)\n",
        "\n",
        "# Autoencoder\n",
        "conv_autoencoder =tf.keras.Model(input, x)\n",
        "conv_autoencoder.compile(optimizer=\"adam\", loss=\"binary_crossentropy\")\n",
        "conv_autoencoder.summary()\n",
        "\n",
        "conv_autoencoder.fit(train_imgs, train_imgs, epochs=10, batch_size=256, shuffle = True)"
      ],
      "metadata": {
        "colab": {
          "base_uri": "https://localhost:8080/"
        },
        "id": "DD7sSU5ueBck",
        "outputId": "bb4414bf-8e62-44ff-98d7-332d661ac04d"
      },
      "execution_count": null,
      "outputs": [
        {
          "output_type": "stream",
          "name": "stdout",
          "text": [
            "Model: \"model_3\"\n",
            "_________________________________________________________________\n",
            " Layer (type)                Output Shape              Param #   \n",
            "=================================================================\n",
            " input_3 (InputLayer)        [(None, 28, 28, 1)]       0         \n",
            "                                                                 \n",
            " conv2d (Conv2D)             (None, 28, 28, 32)        320       \n",
            "                                                                 \n",
            " max_pooling2d (MaxPooling2D  (None, 14, 14, 32)       0         \n",
            " )                                                               \n",
            "                                                                 \n",
            " conv2d_1 (Conv2D)           (None, 14, 14, 32)        9248      \n",
            "                                                                 \n",
            " max_pooling2d_1 (MaxPooling  (None, 7, 7, 32)         0         \n",
            " 2D)                                                             \n",
            "                                                                 \n",
            " conv2d_transpose (Conv2DTra  (None, 14, 14, 32)       9248      \n",
            " nspose)                                                         \n",
            "                                                                 \n",
            " conv2d_transpose_1 (Conv2DT  (None, 28, 28, 32)       9248      \n",
            " ranspose)                                                       \n",
            "                                                                 \n",
            " conv2d_2 (Conv2D)           (None, 28, 28, 1)         289       \n",
            "                                                                 \n",
            "=================================================================\n",
            "Total params: 28,353\n",
            "Trainable params: 28,353\n",
            "Non-trainable params: 0\n",
            "_________________________________________________________________\n",
            "Epoch 1/10\n",
            "235/235 [==============================] - 14s 27ms/step - loss: 0.1927\n",
            "Epoch 2/10\n",
            "235/235 [==============================] - 6s 26ms/step - loss: 0.0767\n",
            "Epoch 3/10\n",
            "235/235 [==============================] - 7s 28ms/step - loss: 0.0724\n",
            "Epoch 4/10\n",
            "235/235 [==============================] - 6s 26ms/step - loss: 0.0706\n",
            "Epoch 5/10\n",
            "235/235 [==============================] - 6s 26ms/step - loss: 0.0696\n",
            "Epoch 6/10\n",
            "235/235 [==============================] - 6s 27ms/step - loss: 0.0688\n",
            "Epoch 7/10\n",
            "235/235 [==============================] - 6s 27ms/step - loss: 0.0682\n",
            "Epoch 8/10\n",
            "235/235 [==============================] - 6s 26ms/step - loss: 0.0677\n",
            "Epoch 9/10\n",
            "235/235 [==============================] - 6s 26ms/step - loss: 0.0674\n",
            "Epoch 10/10\n",
            "235/235 [==============================] - 6s 26ms/step - loss: 0.0671\n"
          ]
        },
        {
          "output_type": "execute_result",
          "data": {
            "text/plain": [
              "<keras.callbacks.History at 0x7fa7f7718490>"
            ]
          },
          "metadata": {},
          "execution_count": 7
        }
      ]
    },
    {
      "cell_type": "code",
      "source": [
        "predictions = conv_autoencoder.predict(test_imgs)\n",
        "\n",
        "\n",
        "n = 10 \n",
        "plt.figure(figsize=(20, 4))\n",
        "for i in range(n):\n",
        "    ax = plt.subplot(2, n, i + 1)\n",
        "    plt.imshow(test_imgs[i].reshape(28, 28))\n",
        "    plt.gray()\n",
        "    ax.get_xaxis().set_visible(False)\n",
        "    ax.get_yaxis().set_visible(False)\n",
        "\n",
        "    ax = plt.subplot(2, n, i + 1 + n)\n",
        "    plt.imshow(predictions[i].reshape(28, 28))\n",
        "    plt.gray()\n",
        "    ax.get_xaxis().set_visible(False)\n",
        "    ax.get_yaxis().set_visible(False)\n",
        "plt.show()"
      ],
      "metadata": {
        "id": "P6YPGkvX0gmB",
        "colab": {
          "base_uri": "https://localhost:8080/",
          "height": 248
        },
        "outputId": "175cb9f7-0c42-40e9-a96a-db3da86b6e59"
      },
      "execution_count": null,
      "outputs": [
        {
          "output_type": "display_data",
          "data": {
            "image/png": "[encoded data removed]",
            "text/plain": [
              "<Figure size 1440x288 with 20 Axes>"
            ]
          },
          "metadata": {
            "needs_background": "light"
          }
        }
      ]
    },
    {
      "cell_type": "code",
      "source": [
        "\n",
        "decoded_images=conv_autoencoder.predict(image_subset)\n",
        "train_labels = tf.keras.utils.to_categorical(label_susbet,10)\n",
        "test_labels = tf.keras.utils.to_categorical(test_labels,10)\n",
        "def training_and_result(train_images, train_labels, test_images, test_labels, channels, rows, columns, epochs):\n",
        "  model = tf.keras.Sequential()\n",
        "  model.add(tf.keras.layers.Conv2D(16,kernel_size=(1,1),padding=\"same\",data_format=(None),activation=tf.keras.activations.relu))\n",
        "  model.add(tf.keras.layers.MaxPool2D(pool_size=(2,2),strides=2,padding=\"valid\",data_format=None))\n",
        "  model.add(tf.keras.layers.Conv2D(32,kernel_size=(3,3),padding=\"same\",data_format=None,activation=tf.keras.activations.relu))\n",
        "  model.add(tf.keras.layers.MaxPool2D(pool_size=(2,2),padding=\"valid\",data_format=None))\n",
        "  model.add(tf.keras.layers.Conv2D(64,kernel_size=(3,3),padding=\"same\",data_format=None,activation=tf.keras.activations.relu))\n",
        "  model.add(tf.keras.layers.MaxPool2D(pool_size=(2,2),strides=2,padding=\"valid\",data_format=None))\n",
        "  model.add(tf.keras.layers.Flatten(data_format=None))\n",
        "  model.add(tf.keras.layers.Dense(10,activation=tf.keras.activations.softmax))\n",
        "  model.compile(optimizer=tf.keras.optimizers.Adam(),\n",
        "              loss = tf.keras.losses.CategoricalCrossentropy(),\n",
        "              metrics = tf.keras.metrics.CategoricalAccuracy())\n",
        "  model.build(input_shape=(128,rows,columns,channels))\n",
        "  model.summary()\n",
        "  log = model.fit(train_images,train_labels,batch_size=128,epochs=epochs,validation_data=(test_images,test_labels))\n",
        "\n",
        "training_and_result(decoded_images,train_labels, test_imgs, test_labels, 1, 28, 28, 10)"
      ],
      "metadata": {
        "id": "OLOvgIhI4g8o",
        "colab": {
          "base_uri": "https://localhost:8080/"
        },
        "outputId": "25d53cbb-9f25-4cc0-8161-208760cffd15"
      },
      "execution_count": null,
      "outputs": [
        {
          "output_type": "stream",
          "name": "stdout",
          "text": [
            "Model: \"sequential_1\"\n",
            "_________________________________________________________________\n",
            " Layer (type)                Output Shape              Param #   \n",
            "=================================================================\n",
            " conv2d_3 (Conv2D)           (128, 28, 28, 16)         32        \n",
            "                                                                 \n",
            " max_pooling2d_2 (MaxPooling  (128, 14, 14, 16)        0         \n",
            " 2D)                                                             \n",
            "                                                                 \n",
            " conv2d_4 (Conv2D)           (128, 14, 14, 32)         4640      \n",
            "                                                                 \n",
            " max_pooling2d_3 (MaxPooling  (128, 7, 7, 32)          0         \n",
            " 2D)                                                             \n",
            "                                                                 \n",
            " conv2d_5 (Conv2D)           (128, 7, 7, 64)           18496     \n",
            "                                                                 \n",
            " max_pooling2d_4 (MaxPooling  (128, 3, 3, 64)          0         \n",
            " 2D)                                                             \n",
            "                                                                 \n",
            " flatten (Flatten)           (128, 576)                0         \n",
            "                                                                 \n",
            " dense_8 (Dense)             (128, 10)                 5770      \n",
            "                                                                 \n",
            "=================================================================\n",
            "Total params: 28,938\n",
            "Trainable params: 28,938\n",
            "Non-trainable params: 0\n",
            "_________________________________________________________________\n",
            "Epoch 1/10\n",
            "8/8 [==============================] - 2s 151ms/step - loss: 2.2639 - categorical_accuracy: 0.1750 - val_loss: 2.1934 - val_categorical_accuracy: 0.4561\n",
            "Epoch 2/10\n",
            "8/8 [==============================] - 0s 59ms/step - loss: 2.1313 - categorical_accuracy: 0.4550 - val_loss: 2.0322 - val_categorical_accuracy: 0.4796\n",
            "Epoch 3/10\n",
            "8/8 [==============================] - 0s 61ms/step - loss: 1.9128 - categorical_accuracy: 0.6160 - val_loss: 1.7257 - val_categorical_accuracy: 0.7459\n",
            "Epoch 4/10\n",
            "8/8 [==============================] - 0s 61ms/step - loss: 1.5554 - categorical_accuracy: 0.7560 - val_loss: 1.2951 - val_categorical_accuracy: 0.7753\n",
            "Epoch 5/10\n",
            "8/8 [==============================] - 0s 59ms/step - loss: 1.1563 - categorical_accuracy: 0.7580 - val_loss: 0.9229 - val_categorical_accuracy: 0.8189\n",
            "Epoch 6/10\n",
            "8/8 [==============================] - 1s 101ms/step - loss: 0.8201 - categorical_accuracy: 0.8140 - val_loss: 0.6635 - val_categorical_accuracy: 0.8414\n",
            "Epoch 7/10\n",
            "8/8 [==============================] - 1s 101ms/step - loss: 0.6274 - categorical_accuracy: 0.8340 - val_loss: 0.5249 - val_categorical_accuracy: 0.8568\n",
            "Epoch 8/10\n",
            "8/8 [==============================] - 1s 101ms/step - loss: 0.5118 - categorical_accuracy: 0.8530 - val_loss: 0.4928 - val_categorical_accuracy: 0.8456\n",
            "Epoch 9/10\n",
            "8/8 [==============================] - 0s 61ms/step - loss: 0.4524 - categorical_accuracy: 0.8740 - val_loss: 0.4053 - val_categorical_accuracy: 0.8832\n",
            "Epoch 10/10\n",
            "8/8 [==============================] - 1s 101ms/step - loss: 0.3705 - categorical_accuracy: 0.8950 - val_loss: 0.3632 - val_categorical_accuracy: 0.8935\n"
          ]
        }
      ]
    },
    {
      "cell_type": "code",
      "source": [
        "(X_train, Y_train), (X_test, Y_test) = tf.keras.datasets.mnist.load_data()\n",
        "X_train = X_train.astype('float32') / 255.\n",
        "output_X_train = X_train.reshape(-1,28,28,1)\n",
        "\n",
        "X_test = X_test.astype('float32') / 255.\n",
        "output_X_test = X_test.reshape(-1,28,28,1)\n",
        "input_x_train = output_X_train + 0.5 * np.random.normal(loc=0.0, scale=1.0, size=output_X_train.shape) \n",
        "input_x_test = output_X_test + 0.5 * np.random.normal(loc=0.0, scale=1.0, size=output_X_test.shape)\n",
        "\n",
        "\n",
        "\n",
        "conv_autoencoder.fit(input_x_train, input_x_train, epochs=10, batch_size=256, shuffle = True)"
      ],
      "metadata": {
        "colab": {
          "base_uri": "https://localhost:8080/"
        },
        "id": "7U8yRtPDiqYD",
        "outputId": "e58deb07-b476-40d5-83d6-e656cb0c0c1b"
      },
      "execution_count": null,
      "outputs": [
        {
          "output_type": "stream",
          "name": "stdout",
          "text": [
            "Epoch 1/10\n",
            "235/235 [==============================] - 6s 26ms/step - loss: -2709845.2500\n",
            "Epoch 2/10\n",
            "235/235 [==============================] - 6s 26ms/step - loss: -79365688.0000\n",
            "Epoch 3/10\n",
            "235/235 [==============================] - 6s 26ms/step - loss: -436179424.0000\n",
            "Epoch 4/10\n",
            "235/235 [==============================] - 6s 26ms/step - loss: -1305545088.0000\n",
            "Epoch 5/10\n",
            "235/235 [==============================] - 6s 26ms/step - loss: -2917671168.0000\n",
            "Epoch 6/10\n",
            "235/235 [==============================] - 6s 26ms/step - loss: -5512036864.0000\n",
            "Epoch 7/10\n",
            "235/235 [==============================] - 6s 26ms/step - loss: -9337353216.0000\n",
            "Epoch 8/10\n",
            "235/235 [==============================] - 6s 26ms/step - loss: -14653808640.0000\n",
            "Epoch 9/10\n",
            "235/235 [==============================] - 6s 26ms/step - loss: -21733056512.0000\n",
            "Epoch 10/10\n",
            "235/235 [==============================] - 6s 26ms/step - loss: -30860812288.0000\n"
          ]
        },
        {
          "output_type": "execute_result",
          "data": {
            "text/plain": [
              "<keras.callbacks.History at 0x7fa7f44fd790>"
            ]
          },
          "metadata": {},
          "execution_count": 10
        }
      ]
    },
    {
      "cell_type": "code",
      "source": [
        "predictions = conv_autoencoder.predict(test_imgs)\n",
        "\n",
        "n = 10 \n",
        "plt.figure(figsize=(20, 4))\n",
        "for i in range(n):\n",
        "    ax = plt.subplot(2, n, i + 1)\n",
        "    plt.imshow(input_x_test[i].reshape(28, 28))\n",
        "    plt.gray()\n",
        "    ax.get_xaxis().set_visible(False)\n",
        "    ax.get_yaxis().set_visible(False)\n",
        "\n",
        "    ax = plt.subplot(2, n, i + 1 + n)\n",
        "    plt.imshow(predictions[i].reshape(28, 28))\n",
        "    plt.gray()\n",
        "    ax.get_xaxis().set_visible(False)\n",
        "    ax.get_yaxis().set_visible(False)\n",
        "plt.show()"
      ],
      "metadata": {
        "id": "qqYkYEfI0nEM",
        "colab": {
          "base_uri": "https://localhost:8080/",
          "height": 248
        },
        "outputId": "1b0ff735-66ee-4800-e58f-2a2aa2722def"
      },
      "execution_count": null,
      "outputs": [
        {
          "output_type": "display_data",
          "data": {
            "image/png": "[encoded data removed]",
            "text/plain": [
              "<Figure size 1440x288 with 20 Axes>"
            ]
          },
          "metadata": {
            "needs_background": "light"
          }
        }
      ]
    },
    {
      "cell_type": "code",
      "source": [
        "(train_imgs, train_labels), (test_imgs, test_labels) = tf.keras.datasets.mnist.load_data()\n",
        "X_train = image_subset.astype('float32') / 255.\n",
        "output_X_train = X_train.reshape(-1,28,28,1)\n",
        "X_test = X_test.astype('float32') / 255.\n",
        "output_X_test = X_test.reshape(-1,28,28,1)\n",
        "input_x_train = output_X_train + 0.5 * np.random.normal(loc=0.0, scale=1.0, size=output_X_train.shape) \n",
        "input_x_test = output_X_test + 0.5 * np.random.normal(loc=0.0, scale=1.0, size=output_X_test.shape)\n",
        "decoded_images=conv_autoencoder.predict(input_x_train)\n",
        "train_labels_noise = tf.keras.utils.to_categorical(label_susbet,10)\n",
        "test_labels = tf.keras.utils.to_categorical(test_labels,10)\n",
        "def training_and_result(train_images, train_labels, test_images, test_labels, channels, rows, columns, epochs):\n",
        "  model = tf.keras.Sequential()\n",
        "  model.add(tf.keras.layers.Conv2D(16,kernel_size=(1,1),padding=\"same\",data_format=(None),activation=tf.keras.activations.relu))\n",
        "  model.add(tf.keras.layers.MaxPool2D(pool_size=(2,2),strides=2,padding=\"valid\",data_format=None))\n",
        "  model.add(tf.keras.layers.Conv2D(32,kernel_size=(3,3),padding=\"same\",data_format=None,activation=tf.keras.activations.relu))\n",
        "  model.add(tf.keras.layers.MaxPool2D(pool_size=(2,2),padding=\"valid\",data_format=None))\n",
        "  model.add(tf.keras.layers.Conv2D(64,kernel_size=(3,3),padding=\"same\",data_format=None,activation=tf.keras.activations.relu))\n",
        "  model.add(tf.keras.layers.MaxPool2D(pool_size=(2,2),strides=2,padding=\"valid\",data_format=None))\n",
        "  model.add(tf.keras.layers.Flatten(data_format=None))\n",
        "  model.add(tf.keras.layers.Dense(10,activation=tf.keras.activations.softmax))\n",
        "  model.compile(optimizer=tf.keras.optimizers.Adam(),\n",
        "              loss = tf.keras.losses.CategoricalCrossentropy(),\n",
        "              metrics = tf.keras.metrics.CategoricalAccuracy())\n",
        "  model.build(input_shape=(128,rows,columns,channels))\n",
        "  model.summary()\n",
        "  log = model.fit(train_images,train_labels,batch_size=128,epochs=epochs,validation_data=(test_images,test_labels))\n",
        "\n",
        "training_and_result(decoded_images,train_labels_noise, input_x_test, test_labels, 1, 28, 28, 10)"
      ],
      "metadata": {
        "id": "_Eb3BH2h5UAl",
        "colab": {
          "base_uri": "https://localhost:8080/"
        },
        "outputId": "aa2e64d8-aba6-49e7-db4e-4a54524b0c77"
      },
      "execution_count": null,
      "outputs": [
        {
          "output_type": "stream",
          "name": "stdout",
          "text": [
            "Model: \"sequential_2\"\n",
            "_________________________________________________________________\n",
            " Layer (type)                Output Shape              Param #   \n",
            "=================================================================\n",
            " conv2d_6 (Conv2D)           (128, 28, 28, 16)         32        \n",
            "                                                                 \n",
            " max_pooling2d_5 (MaxPooling  (128, 14, 14, 16)        0         \n",
            " 2D)                                                             \n",
            "                                                                 \n",
            " conv2d_7 (Conv2D)           (128, 14, 14, 32)         4640      \n",
            "                                                                 \n",
            " max_pooling2d_6 (MaxPooling  (128, 7, 7, 32)          0         \n",
            " 2D)                                                             \n",
            "                                                                 \n",
            " conv2d_8 (Conv2D)           (128, 7, 7, 64)           18496     \n",
            "                                                                 \n",
            " max_pooling2d_7 (MaxPooling  (128, 3, 3, 64)          0         \n",
            " 2D)                                                             \n",
            "                                                                 \n",
            " flatten_1 (Flatten)         (128, 576)                0         \n",
            "                                                                 \n",
            " dense_9 (Dense)             (128, 10)                 5770      \n",
            "                                                                 \n",
            "=================================================================\n",
            "Total params: 28,938\n",
            "Trainable params: 28,938\n",
            "Non-trainable params: 0\n",
            "_________________________________________________________________\n",
            "Epoch 1/10\n",
            "8/8 [==============================] - 2s 136ms/step - loss: 2.3033 - categorical_accuracy: 0.1080 - val_loss: 2.3253 - val_categorical_accuracy: 0.1130\n",
            "Epoch 2/10\n",
            "8/8 [==============================] - 1s 102ms/step - loss: 2.2925 - categorical_accuracy: 0.1410 - val_loss: 2.3566 - val_categorical_accuracy: 0.1135\n",
            "Epoch 3/10\n",
            "8/8 [==============================] - 0s 64ms/step - loss: 2.2845 - categorical_accuracy: 0.1380 - val_loss: 2.4272 - val_categorical_accuracy: 0.1135\n",
            "Epoch 4/10\n",
            "8/8 [==============================] - 0s 64ms/step - loss: 2.2775 - categorical_accuracy: 0.1360 - val_loss: 2.5412 - val_categorical_accuracy: 0.1135\n",
            "Epoch 5/10\n",
            "8/8 [==============================] - 1s 103ms/step - loss: 2.2678 - categorical_accuracy: 0.1500 - val_loss: 2.4627 - val_categorical_accuracy: 0.1132\n",
            "Epoch 6/10\n",
            "8/8 [==============================] - 0s 64ms/step - loss: 2.2569 - categorical_accuracy: 0.1580 - val_loss: 2.4799 - val_categorical_accuracy: 0.1137\n",
            "Epoch 7/10\n",
            "8/8 [==============================] - 0s 64ms/step - loss: 2.2469 - categorical_accuracy: 0.1660 - val_loss: 2.4951 - val_categorical_accuracy: 0.1136\n",
            "Epoch 8/10\n",
            "8/8 [==============================] - 0s 64ms/step - loss: 2.2353 - categorical_accuracy: 0.1670 - val_loss: 2.4446 - val_categorical_accuracy: 0.1034\n",
            "Epoch 9/10\n",
            "8/8 [==============================] - 0s 64ms/step - loss: 2.2238 - categorical_accuracy: 0.1740 - val_loss: 2.4650 - val_categorical_accuracy: 0.1090\n",
            "Epoch 10/10\n",
            "8/8 [==============================] - 1s 102ms/step - loss: 2.2111 - categorical_accuracy: 0.1740 - val_loss: 2.4492 - val_categorical_accuracy: 0.1025\n"
          ]
        }
      ]
    },
    {
      "cell_type": "code",
      "source": [
        "(train_images, train_labels), (test_images,test_labels) = tf.keras.datasets.mnist.load_data()\n",
        "#adding a dimension for channel\n",
        "train_images_mnist = train_images.reshape(train_images.shape[0],28,28,1)\n",
        "test_images_mnist = test_images.reshape(test_images.shape[0],28,28,1)\n",
        "\n",
        "train_images_mnist = train_images_mnist.astype(np.float32)/255\n",
        "test_images_mnist = test_images_mnist.astype(np.float32)/255\n",
        "#one-hot encoding of lables\n",
        "train_labels_mnist = tf.keras.utils.to_categorical(train_labels,10)\n",
        "test_labels_mnist = tf.keras.utils.to_categorical(test_labels,10)\n",
        "\n",
        "\n",
        "def training_and_result(train_images, train_labels, test_images, test_labels, channels, rows, columns, epochs):\n",
        "  model = tf.keras.Sequential()\n",
        "  model.add(tf.keras.layers.Conv2D(16,kernel_size=(1,1),padding=\"same\",data_format=(None),activation=tf.keras.activations.relu))\n",
        "  model.add(tf.keras.layers.MaxPool2D(pool_size=(2,2),strides=2,padding=\"valid\",data_format=None))\n",
        "  model.add(tf.keras.layers.Conv2D(32,kernel_size=(3,3),padding=\"same\",data_format=None,activation=tf.keras.activations.relu))\n",
        "  model.add(tf.keras.layers.MaxPool2D(pool_size=(2,2),padding=\"valid\",data_format=None))\n",
        "  model.add(tf.keras.layers.Conv2D(64,kernel_size=(3,3),padding=\"same\",data_format=None,activation=tf.keras.activations.relu))\n",
        "  model.add(tf.keras.layers.MaxPool2D(pool_size=(2,2),strides=2,padding=\"valid\",data_format=None))\n",
        "  model.add(tf.keras.layers.Flatten(data_format=None))\n",
        "  model.add(tf.keras.layers.Dense(10,activation=tf.keras.activations.softmax))\n",
        "  model.compile(optimizer=tf.keras.optimizers.Adam(),\n",
        "              loss = tf.keras.losses.CategoricalCrossentropy(),\n",
        "              metrics = tf.keras.metrics.CategoricalAccuracy())\n",
        "  model.build(input_shape=(128,rows,columns,channels))\n",
        "  model.summary()\n",
        "  log = model.fit(train_images,train_labels,batch_size=128,epochs=epochs,validation_data=(test_images,test_labels))\n",
        "\n",
        "training_and_result(train_images_mnist,train_labels_mnist, test_images_mnist, test_labels_mnist, 1, 28, 28, 10)\n"
      ],
      "metadata": {
        "colab": {
          "base_uri": "https://localhost:8080/"
        },
        "id": "xLQOKvQBpU8S",
        "outputId": "5d7fd772-9f25-452f-a3c9-72f170ff9d4a"
      },
      "execution_count": null,
      "outputs": [
        {
          "output_type": "stream",
          "name": "stdout",
          "text": [
            "Model: \"sequential_3\"\n",
            "_________________________________________________________________\n",
            " Layer (type)                Output Shape              Param #   \n",
            "=================================================================\n",
            " conv2d_9 (Conv2D)           (128, 28, 28, 16)         32        \n",
            "                                                                 \n",
            " max_pooling2d_8 (MaxPooling  (128, 14, 14, 16)        0         \n",
            " 2D)                                                             \n",
            "                                                                 \n",
            " conv2d_10 (Conv2D)          (128, 14, 14, 32)         4640      \n",
            "                                                                 \n",
            " max_pooling2d_9 (MaxPooling  (128, 7, 7, 32)          0         \n",
            " 2D)                                                             \n",
            "                                                                 \n",
            " conv2d_11 (Conv2D)          (128, 7, 7, 64)           18496     \n",
            "                                                                 \n",
            " max_pooling2d_10 (MaxPoolin  (128, 3, 3, 64)          0         \n",
            " g2D)                                                            \n",
            "                                                                 \n",
            " flatten_2 (Flatten)         (128, 576)                0         \n",
            "                                                                 \n",
            " dense_10 (Dense)            (128, 10)                 5770      \n",
            "                                                                 \n",
            "=================================================================\n",
            "Total params: 28,938\n",
            "Trainable params: 28,938\n",
            "Non-trainable params: 0\n",
            "_________________________________________________________________\n",
            "Epoch 1/10\n",
            "469/469 [==============================] - 6s 12ms/step - loss: 0.3812 - categorical_accuracy: 0.8926 - val_loss: 0.1157 - val_categorical_accuracy: 0.9629\n",
            "Epoch 2/10\n",
            "469/469 [==============================] - 5s 10ms/step - loss: 0.1066 - categorical_accuracy: 0.9672 - val_loss: 0.0768 - val_categorical_accuracy: 0.9750\n",
            "Epoch 3/10\n",
            "469/469 [==============================] - 5s 10ms/step - loss: 0.0799 - categorical_accuracy: 0.9749 - val_loss: 0.0663 - val_categorical_accuracy: 0.9783\n",
            "Epoch 4/10\n",
            "469/469 [==============================] - 5s 10ms/step - loss: 0.0669 - categorical_accuracy: 0.9791 - val_loss: 0.0593 - val_categorical_accuracy: 0.9808\n",
            "Epoch 5/10\n",
            "469/469 [==============================] - 5s 11ms/step - loss: 0.0565 - categorical_accuracy: 0.9828 - val_loss: 0.0606 - val_categorical_accuracy: 0.9800\n",
            "Epoch 6/10\n",
            "469/469 [==============================] - 5s 11ms/step - loss: 0.0492 - categorical_accuracy: 0.9846 - val_loss: 0.0620 - val_categorical_accuracy: 0.9799\n",
            "Epoch 7/10\n",
            "469/469 [==============================] - 5s 10ms/step - loss: 0.0437 - categorical_accuracy: 0.9864 - val_loss: 0.0563 - val_categorical_accuracy: 0.9823\n",
            "Epoch 8/10\n",
            "469/469 [==============================] - 5s 11ms/step - loss: 0.0404 - categorical_accuracy: 0.9873 - val_loss: 0.0533 - val_categorical_accuracy: 0.9842\n",
            "Epoch 9/10\n",
            "469/469 [==============================] - 5s 11ms/step - loss: 0.0343 - categorical_accuracy: 0.9894 - val_loss: 0.0524 - val_categorical_accuracy: 0.9837\n",
            "Epoch 10/10\n",
            "469/469 [==============================] - 5s 10ms/step - loss: 0.0321 - categorical_accuracy: 0.9898 - val_loss: 0.0521 - val_categorical_accuracy: 0.9835\n"
          ]
        }
      ]
    },
    {
      "cell_type": "code",
      "source": [],
      "metadata": {
        "id": "CGIOyO7N-U_Z"
      },
      "execution_count": null,
      "outputs": []
    }
  ]
}