{
  "nbformat": 4,
  "nbformat_minor": 0,
  "metadata": {
    "colab": {
      "provenance": [],
      "collapsed_sections": []
    },
    "kernelspec": {
      "name": "python3",
      "display_name": "Python 3"
    },
    "language_info": {
      "name": "python"
    },
    "accelerator": "GPU"
  },
  "cells": [
    {
      "cell_type": "markdown",
      "metadata": {
        "id": "78hcA-ZF1zBD"
      },
      "source": [
        "\n",
        "## Dense Block architecture CIFAR dataset\n",
        "\n"
      ]
    },
    {
      "cell_type": "code",
      "metadata": {
        "id": "2kVmt3XpqnS1"
      },
      "source": [
        "import tensorflow as tf\n",
        "import numpy as np\n",
        "import matplotlib.pyplot as plt\n",
        "import time"
      ],
      "execution_count": null,
      "outputs": []
    },
    {
      "cell_type": "code",
      "metadata": {
        "id": "JyooQ_K4skiH",
        "colab": {
          "base_uri": "https://localhost:8080/"
        },
        "outputId": "ce4b4043-d329-4eec-93b5-11bcc19f76d8"
      },
      "source": [
        "(train_images, train_labels), (test_images, test_labels) = tf.keras.datasets.cifar10.load_data()\n",
        "train_data = tf.data.Dataset.from_tensor_slices((train_images.astype(np.float32) / 255, train_labels.reshape(-1).astype(np.int32)))\n",
        "train_data = train_data.shuffle(buffer_size=60000).batch(128).repeat()\n",
        "\n",
        "test_data = tf.data.Dataset.from_tensor_slices((test_images.astype(np.float32) / 255, test_labels.reshape(-1).astype(np.int32))).batch(128)"
      ],
      "execution_count": null,
      "outputs": [
        {
          "output_type": "stream",
          "name": "stdout",
          "text": [
            "Downloading data from https://www.cs.toronto.edu/~kriz/cifar-10-python.tar.gz\n",
            "170500096/170498071 [==============================] - 3s 0us/step\n",
            "170508288/170498071 [==============================] - 3s 0us/step\n"
          ]
        }
      ]
    },
    {
      "cell_type": "code",
      "metadata": {
        "id": "TaOaOzUZtapQ"
      },
      "source": [
        "tfkl = tf.keras.layers\n",
        "inputs = tfkl.Input((32, 32, 3))\n",
        "\n",
        "conv1 = tfkl.Conv2D(32, 3, activation=tf.nn.relu, padding=\"same\",name=\"conv1\")(inputs)\n",
        "\n",
        "#dense block 1\n",
        "\n",
        "conv11 = tfkl.Conv2D(32, 3, activation=tf.nn.relu, padding=\"same\",name=\"conv11\")(conv1)\n",
        "concat11 = tfkl.concatenate([conv1, conv11])\n",
        "pool11 = tfkl.MaxPool2D(3, 1, padding=\"same\", name=\"pool11\")(concat11)\n",
        "conv12 = tfkl.Conv2D(32, 3, activation=tf.nn.relu, padding=\"same\",name=\"conv12\")(pool11)\n",
        "concat12 = tfkl.concatenate([conv1, conv11, conv12])\n",
        "pool12 = tfkl.MaxPool2D(3, 1, padding=\"same\", name=\"pool12\")(concat12)\n",
        "conv13 = tfkl.Conv2D(32, 3, activation=tf.nn.relu, padding=\"same\",name=\"conv13\")(pool12)\n",
        "concat13 = tfkl.concatenate([conv1, conv11, conv12, conv13])\n",
        "pool13 = tfkl.MaxPool2D(3, 1, padding=\"same\", name=\"pool13\")(concat13)\n",
        "\n",
        "conv2 = tfkl.Conv2D(32, 3, activation=tf.nn.relu, padding=\"same\",name=\"conv2\")(pool13)\n",
        "pool2 = tfkl.MaxPool2D(3, 1, padding=\"same\", name=\"pool2\")(conv2)\n",
        "\n",
        "#dense block 2\n",
        "conv21 = tfkl.Conv2D(32, 3, activation=tf.nn.relu, padding=\"same\",name=\"conv21\")(pool2)\n",
        "concat21 = tfkl.concatenate([conv2, conv21])\n",
        "pool21 = tfkl.MaxPool2D(3, 1, padding=\"same\", name=\"pool21\")(concat21)\n",
        "conv22 = tfkl.Conv2D(32, 3, activation=tf.nn.relu, padding=\"same\",name=\"conv22\")(pool21)\n",
        "concat22 = tfkl.concatenate([conv2, conv21, conv22])\n",
        "pool22 = tfkl.MaxPool2D(3, 1, padding=\"same\", name=\"pool22\")(concat22)\n",
        "conv23 = tfkl.Conv2D(32, 3, activation=tf.nn.relu, padding=\"same\",name=\"conv23\")(pool22)\n",
        "concat23 = tfkl.concatenate([conv2, conv21, conv22, conv23])\n",
        "pool23 = tfkl.MaxPool2D(3, 1, padding=\"same\", name=\"pool23\")(concat23)\n",
        "\n",
        "pool3 = tfkl.MaxPool2D(3, 1, padding=\"same\", name=\"pool3\")(pool23)\n",
        "\n",
        "\n",
        "flatten = tf.keras.layers.Flatten()(pool3)\n",
        "dense = tf.keras.layers.Dense(10, name=\"Dense\")(flatten)\n",
        "\n",
        "optimizer = tf.optimizers.Adam()\n",
        "\n",
        "loss_fn = tf.losses.SparseCategoricalCrossentropy(from_logits=True)\n",
        "\n",
        "train_acc_metric = tf.metrics.SparseCategoricalAccuracy()\n",
        "\n",
        "\n"
      ],
      "execution_count": null,
      "outputs": []
    },
    {
      "cell_type": "code",
      "metadata": {
        "colab": {
          "base_uri": "https://localhost:8080/"
        },
        "id": "aaEsbIsCyjpJ",
        "outputId": "d27f62ed-0755-4bce-be56-459cc3be5c9a"
      },
      "source": [
        "model = tf.keras.Model(inputs, dense, name=\"Model\")\n",
        "model.compile(optimizer=tf.keras.optimizers.Adam(), loss=loss_fn, metrics=train_acc_metric)\n",
        "model.summary()\n",
        "log = model.fit(train_data, steps_per_epoch=1000,epochs=2,validation_data=test_data)"
      ],
      "execution_count": null,
      "outputs": [
        {
          "output_type": "stream",
          "name": "stdout",
          "text": [
            "Model: \"Model\"\n",
            "__________________________________________________________________________________________________\n",
            " Layer (type)                   Output Shape         Param #     Connected to                     \n",
            "==================================================================================================\n",
            " input_1 (InputLayer)           [(None, 32, 32, 3)]  0           []                               \n",
            "                                                                                                  \n",
            " conv1 (Conv2D)                 (None, 32, 32, 32)   896         ['input_1[0][0]']                \n",
            "                                                                                                  \n",
            " conv11 (Conv2D)                (None, 32, 32, 32)   9248        ['conv1[0][0]']                  \n",
            "                                                                                                  \n",
            " concatenate (Concatenate)      (None, 32, 32, 64)   0           ['conv1[0][0]',                  \n",
            "                                                                  'conv11[0][0]']                 \n",
            "                                                                                                  \n",
            " pool11 (MaxPooling2D)          (None, 32, 32, 64)   0           ['concatenate[0][0]']            \n",
            "                                                                                                  \n",
            " conv12 (Conv2D)                (None, 32, 32, 32)   18464       ['pool11[0][0]']                 \n",
            "                                                                                                  \n",
            " concatenate_1 (Concatenate)    (None, 32, 32, 96)   0           ['conv1[0][0]',                  \n",
            "                                                                  'conv11[0][0]',                 \n",
            "                                                                  'conv12[0][0]']                 \n",
            "                                                                                                  \n",
            " pool12 (MaxPooling2D)          (None, 32, 32, 96)   0           ['concatenate_1[0][0]']          \n",
            "                                                                                                  \n",
            " conv13 (Conv2D)                (None, 32, 32, 32)   27680       ['pool12[0][0]']                 \n",
            "                                                                                                  \n",
            " concatenate_2 (Concatenate)    (None, 32, 32, 128)  0           ['conv1[0][0]',                  \n",
            "                                                                  'conv11[0][0]',                 \n",
            "                                                                  'conv12[0][0]',                 \n",
            "                                                                  'conv13[0][0]']                 \n",
            "                                                                                                  \n",
            " pool13 (MaxPooling2D)          (None, 32, 32, 128)  0           ['concatenate_2[0][0]']          \n",
            "                                                                                                  \n",
            " conv2 (Conv2D)                 (None, 32, 32, 32)   36896       ['pool13[0][0]']                 \n",
            "                                                                                                  \n",
            " pool2 (MaxPooling2D)           (None, 32, 32, 32)   0           ['conv2[0][0]']                  \n",
            "                                                                                                  \n",
            " conv21 (Conv2D)                (None, 32, 32, 32)   9248        ['pool2[0][0]']                  \n",
            "                                                                                                  \n",
            " concatenate_3 (Concatenate)    (None, 32, 32, 64)   0           ['conv2[0][0]',                  \n",
            "                                                                  'conv21[0][0]']                 \n",
            "                                                                                                  \n",
            " pool21 (MaxPooling2D)          (None, 32, 32, 64)   0           ['concatenate_3[0][0]']          \n",
            "                                                                                                  \n",
            " conv22 (Conv2D)                (None, 32, 32, 32)   18464       ['pool21[0][0]']                 \n",
            "                                                                                                  \n",
            " concatenate_4 (Concatenate)    (None, 32, 32, 96)   0           ['conv2[0][0]',                  \n",
            "                                                                  'conv21[0][0]',                 \n",
            "                                                                  'conv22[0][0]']                 \n",
            "                                                                                                  \n",
            " pool22 (MaxPooling2D)          (None, 32, 32, 96)   0           ['concatenate_4[0][0]']          \n",
            "                                                                                                  \n",
            " conv23 (Conv2D)                (None, 32, 32, 32)   27680       ['pool22[0][0]']                 \n",
            "                                                                                                  \n",
            " concatenate_5 (Concatenate)    (None, 32, 32, 128)  0           ['conv2[0][0]',                  \n",
            "                                                                  'conv21[0][0]',                 \n",
            "                                                                  'conv22[0][0]',                 \n",
            "                                                                  'conv23[0][0]']                 \n",
            "                                                                                                  \n",
            " pool23 (MaxPooling2D)          (None, 32, 32, 128)  0           ['concatenate_5[0][0]']          \n",
            "                                                                                                  \n",
            " pool3 (MaxPooling2D)           (None, 32, 32, 128)  0           ['pool23[0][0]']                 \n",
            "                                                                                                  \n",
            " flatten (Flatten)              (None, 131072)       0           ['pool3[0][0]']                  \n",
            "                                                                                                  \n",
            " Dense (Dense)                  (None, 10)           1310730     ['flatten[0][0]']                \n",
            "                                                                                                  \n",
            "==================================================================================================\n",
            "Total params: 1,459,306\n",
            "Trainable params: 1,459,306\n",
            "Non-trainable params: 0\n",
            "__________________________________________________________________________________________________\n",
            "Epoch 1/2\n",
            "1000/1000 [==============================] - 180s 148ms/step - loss: 1.1910 - sparse_categorical_accuracy: 0.5833 - val_loss: 0.9210 - val_sparse_categorical_accuracy: 0.6833\n",
            "Epoch 2/2\n",
            "1000/1000 [==============================] - 147s 147ms/step - loss: 0.7862 - sparse_categorical_accuracy: 0.7264 - val_loss: 0.8657 - val_sparse_categorical_accuracy: 0.7114\n"
          ]
        }
      ]
    },
    {
      "cell_type": "code",
      "metadata": {
        "id": "fQWW2yLWx9zZ"
      },
      "source": [
        "@tf.function\n",
        "def train_step(images, labels):\n",
        "    with tf.GradientTape() as tape:\n",
        "        logits = model(images)\n",
        "        xent = loss_fn(labels, logits)\n",
        "\n",
        "    variables = model.trainable_variables\n",
        "    gradients = tape.gradient(xent, variables)\n",
        "    optimizer.apply_gradients(zip(gradients, variables))\n",
        "\n",
        "    return xent, logits"
      ],
      "execution_count": null,
      "outputs": []
    },
    {
      "cell_type": "code",
      "metadata": {
        "id": "25ajmlRlEzuz",
        "colab": {
          "base_uri": "https://localhost:8080/"
        },
        "outputId": "bd44e8b2-02cd-4c45-99c2-63828664f012"
      },
      "source": [
        "\n",
        "train_steps = 2000\n",
        "\n",
        "start = time.time()\n",
        "for step, (img_batch, lbl_batch) in enumerate(train_data):\n",
        "    if step > train_steps:\n",
        "        break\n",
        "\n",
        "    xent, logits = train_step(img_batch, lbl_batch)\n",
        "\n",
        "    if not step % 1000:\n",
        "        train_acc_metric(lbl_batch, logits)\n",
        "        acc = train_acc_metric.result()\n",
        "        print(\"Loss: {} Accuracy: {}\".format(xent, acc))\n",
        "        train_acc_metric.reset_states()\n",
        "\n",
        "        stop = time.time()\n",
        "        print(\"took {} seconds\\n\".format(stop-start))\n",
        "        start = time.time()"
      ],
      "execution_count": null,
      "outputs": [
        {
          "output_type": "stream",
          "name": "stdout",
          "text": [
            "Loss: 0.8545383810997009 Accuracy: 0.7114928960800171\n",
            "took 2.023367166519165 seconds\n",
            "\n",
            "Loss: 0.6142902374267578 Accuracy: 0.8046875\n",
            "took 134.46413278579712 seconds\n",
            "\n",
            "Loss: 0.5070408582687378 Accuracy: 0.8203125\n",
            "took 133.7143907546997 seconds\n",
            "\n"
          ]
        }
      ]
    }
  ]
}