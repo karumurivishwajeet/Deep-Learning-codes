{
  "nbformat": 4,
  "nbformat_minor": 0,
  "metadata": {
    "colab": {
      "provenance": [],
      "collapsed_sections": []
    },
    "kernelspec": {
      "name": "python3",
      "display_name": "Python 3"
    },
    "language_info": {
      "name": "python"
    }
  },
  "cells": [
    {
      "cell_type": "markdown",
      "source": [
        "## Convolutional Neural Networks (CNN) on MNIST and CIFAR dataset"
      ],
      "metadata": {
        "id": "d9M8muXr_lEN"
      }
    },
    {
      "cell_type": "code",
      "metadata": {
        "id": "xkk8NEXO6DRh",
        "colab": {
          "base_uri": "https://localhost:8080/"
        },
        "outputId": "2f183b97-a263-49db-b4fb-e04c814ea7cf"
      },
      "source": [
        "from google.colab import drive\n",
        "drive.mount('/content/drive')\n",
        "import os\n",
        "os.chdir('/content/drive/MyDrive/Colab Notebooks/IDL')\n",
        "os.getcwd()\n",
        "import tensorflow as tf\n",
        "import numpy as np\n",
        "import matplotlib.pyplot as plt"
      ],
      "execution_count": null,
      "outputs": [
        {
          "output_type": "stream",
          "name": "stdout",
          "text": [
            "Drive already mounted at /content/drive; to attempt to forcibly remount, call drive.mount(\"/content/drive\", force_remount=True).\n"
          ]
        }
      ]
    },
    {
      "cell_type": "code",
      "metadata": {
        "id": "Z4bONAuX7P6T"
      },
      "source": [
        "(train_images, train_labels), (test_images,test_labels) = tf.keras.datasets.mnist.load_data()\n",
        "#adding a dimension for channel\n",
        "train_images_mnist = train_images.reshape(train_images.shape[0],28,28,1)\n",
        "test_images_mnist = test_images.reshape(test_images.shape[0],28,28,1)\n",
        "\n",
        "train_images_mnist = train_images_mnist.astype(np.float32)/255\n",
        "test_images_mnist = test_images_mnist.astype(np.float32)/255\n",
        "#one-hot encoding of lables\n",
        "train_labels_mnist = tf.keras.utils.to_categorical(train_labels,10)\n",
        "test_labels_mnist = tf.keras.utils.to_categorical(test_labels,10)\n"
      ],
      "execution_count": null,
      "outputs": []
    },
    {
      "cell_type": "code",
      "metadata": {
        "id": "mvl08RKd7taM"
      },
      "source": [
        "(train_images, train_labels), (test_images,test_labels) = tf.keras.datasets.cifar10.load_data()\n",
        "train_images_cifar = train_images.astype(np.float32)/255\n",
        "test_images_cifar = test_images.astype(np.float32)/255\n",
        "#one-hot encoding of lables\n",
        "train_labels_cifar = tf.keras.utils.to_categorical(train_labels,10)\n",
        "test_labels_cifar = tf.keras.utils.to_categorical(test_labels,10)"
      ],
      "execution_count": null,
      "outputs": []
    },
    {
      "cell_type": "code",
      "metadata": {
        "id": "61lt6Lgl8IsF"
      },
      "source": [
        "def training_and_result(train_images, train_labels, test_images, test_labels, channels, rows, columns, epochs):\n",
        "  model = tf.keras.Sequential()\n",
        "  model.add(tf.keras.layers.Conv2D(16,kernel_size=(1,1),padding=\"same\",data_format=(None),activation=tf.keras.activations.relu))\n",
        "  model.add(tf.keras.layers.MaxPool2D(pool_size=(2,2),strides=2,padding=\"valid\",data_format=None))\n",
        "  model.add(tf.keras.layers.Conv2D(32,kernel_size=(3,3),padding=\"same\",data_format=None,activation=tf.keras.activations.relu))\n",
        "  model.add(tf.keras.layers.MaxPool2D(pool_size=(2,2),padding=\"valid\",data_format=None))\n",
        "  model.add(tf.keras.layers.Conv2D(64,kernel_size=(3,3),padding=\"same\",data_format=None,activation=tf.keras.activations.relu))\n",
        "  model.add(tf.keras.layers.MaxPool2D(pool_size=(2,2),strides=2,padding=\"valid\",data_format=None))\n",
        "  model.add(tf.keras.layers.Flatten(data_format=None))\n",
        "#model.add(tf.keras.layers.Dense(120,activation=tf.keras.activations.relu))\n",
        "  model.add(tf.keras.layers.Dense(10,activation=tf.keras.activations.softmax))\n",
        "  model.compile(optimizer=tf.keras.optimizers.Adam(),\n",
        "              loss = tf.keras.losses.CategoricalCrossentropy(),\n",
        "              metrics = tf.keras.metrics.CategoricalAccuracy())\n",
        "  model.build(input_shape=(128,rows,columns,channels))\n",
        "  model.summary()\n",
        "  log = model.fit(train_images,train_labels,batch_size=128,epochs=epochs,validation_data=(test_images,test_labels))"
      ],
      "execution_count": null,
      "outputs": []
    },
    {
      "cell_type": "code",
      "metadata": {
        "colab": {
          "base_uri": "https://localhost:8080/"
        },
        "id": "-UovLy0BS9_3",
        "outputId": "cee684f2-1fc2-488d-f17d-0fd77b22c79e"
      },
      "source": [
        "training_and_result(train_images_mnist,train_labels_mnist, test_images_mnist, test_labels_mnist, 1, 28, 28, 5)"
      ],
      "execution_count": null,
      "outputs": [
        {
          "output_type": "stream",
          "name": "stdout",
          "text": [
            "Model: \"sequential_2\"\n",
            "_________________________________________________________________\n",
            "Layer (type)                 Output Shape              Param #   \n",
            "=================================================================\n",
            "conv2d_6 (Conv2D)            (128, 28, 28, 16)         32        \n",
            "_________________________________________________________________\n",
            "max_pooling2d_6 (MaxPooling2 (128, 14, 14, 16)         0         \n",
            "_________________________________________________________________\n",
            "conv2d_7 (Conv2D)            (128, 14, 14, 32)         4640      \n",
            "_________________________________________________________________\n",
            "max_pooling2d_7 (MaxPooling2 (128, 7, 7, 32)           0         \n",
            "_________________________________________________________________\n",
            "conv2d_8 (Conv2D)            (128, 7, 7, 64)           18496     \n",
            "_________________________________________________________________\n",
            "max_pooling2d_8 (MaxPooling2 (128, 3, 3, 64)           0         \n",
            "_________________________________________________________________\n",
            "flatten_2 (Flatten)          (128, 576)                0         \n",
            "_________________________________________________________________\n",
            "dense_2 (Dense)              (128, 10)                 5770      \n",
            "=================================================================\n",
            "Total params: 28,938\n",
            "Trainable params: 28,938\n",
            "Non-trainable params: 0\n",
            "_________________________________________________________________\n",
            "Epoch 1/5\n",
            "469/469 [==============================] - 38s 79ms/step - loss: 0.3785 - categorical_accuracy: 0.8955 - val_loss: 0.1077 - val_categorical_accuracy: 0.9657\n",
            "Epoch 2/5\n",
            "469/469 [==============================] - 37s 79ms/step - loss: 0.1038 - categorical_accuracy: 0.9681 - val_loss: 0.0854 - val_categorical_accuracy: 0.9725\n",
            "Epoch 3/5\n",
            "469/469 [==============================] - 37s 79ms/step - loss: 0.0783 - categorical_accuracy: 0.9756 - val_loss: 0.0721 - val_categorical_accuracy: 0.9756\n",
            "Epoch 4/5\n",
            "469/469 [==============================] - 37s 79ms/step - loss: 0.0643 - categorical_accuracy: 0.9796 - val_loss: 0.0728 - val_categorical_accuracy: 0.9736\n",
            "Epoch 5/5\n",
            "469/469 [==============================] - 37s 79ms/step - loss: 0.0565 - categorical_accuracy: 0.9823 - val_loss: 0.0512 - val_categorical_accuracy: 0.9839\n"
          ]
        }
      ]
    },
    {
      "cell_type": "code",
      "metadata": {
        "colab": {
          "base_uri": "https://localhost:8080/"
        },
        "id": "fis0B6XMkPIy",
        "outputId": "8f12468e-85d3-4d69-fbf3-0f196fd0f337"
      },
      "source": [
        "training_and_result(train_images_cifar, train_labels_cifar, test_images_cifar, test_labels_cifar, 3, 32, 32, 20)"
      ],
      "execution_count": null,
      "outputs": [
        {
          "output_type": "stream",
          "name": "stdout",
          "text": [
            "Model: \"sequential_3\"\n",
            "_________________________________________________________________\n",
            "Layer (type)                 Output Shape              Param #   \n",
            "=================================================================\n",
            "conv2d_9 (Conv2D)            (128, 32, 32, 16)         64        \n",
            "_________________________________________________________________\n",
            "max_pooling2d_9 (MaxPooling2 (128, 16, 16, 16)         0         \n",
            "_________________________________________________________________\n",
            "conv2d_10 (Conv2D)           (128, 16, 16, 32)         4640      \n",
            "_________________________________________________________________\n",
            "max_pooling2d_10 (MaxPooling (128, 8, 8, 32)           0         \n",
            "_________________________________________________________________\n",
            "conv2d_11 (Conv2D)           (128, 8, 8, 64)           18496     \n",
            "_________________________________________________________________\n",
            "max_pooling2d_11 (MaxPooling (128, 4, 4, 64)           0         \n",
            "_________________________________________________________________\n",
            "flatten_3 (Flatten)          (128, 1024)               0         \n",
            "_________________________________________________________________\n",
            "dense_3 (Dense)              (128, 10)                 10250     \n",
            "=================================================================\n",
            "Total params: 33,450\n",
            "Trainable params: 33,450\n",
            "Non-trainable params: 0\n",
            "_________________________________________________________________\n",
            "Epoch 1/20\n",
            "391/391 [==============================] - 42s 106ms/step - loss: 1.7046 - categorical_accuracy: 0.3873 - val_loss: 1.4453 - val_categorical_accuracy: 0.4909\n",
            "Epoch 2/20\n",
            "391/391 [==============================] - 41s 106ms/step - loss: 1.3698 - categorical_accuracy: 0.5123 - val_loss: 1.2921 - val_categorical_accuracy: 0.5422\n",
            "Epoch 3/20\n",
            "391/391 [==============================] - 42s 106ms/step - loss: 1.2310 - categorical_accuracy: 0.5637 - val_loss: 1.1957 - val_categorical_accuracy: 0.5832\n",
            "Epoch 4/20\n",
            "391/391 [==============================] - 41s 106ms/step - loss: 1.1443 - categorical_accuracy: 0.5995 - val_loss: 1.1239 - val_categorical_accuracy: 0.6073\n",
            "Epoch 5/20\n",
            "391/391 [==============================] - 44s 112ms/step - loss: 1.0840 - categorical_accuracy: 0.6199 - val_loss: 1.0848 - val_categorical_accuracy: 0.6198\n",
            "Epoch 6/20\n",
            "391/391 [==============================] - 41s 106ms/step - loss: 1.0418 - categorical_accuracy: 0.6355 - val_loss: 1.0547 - val_categorical_accuracy: 0.6267\n",
            "Epoch 7/20\n",
            "391/391 [==============================] - 41s 106ms/step - loss: 1.0002 - categorical_accuracy: 0.6510 - val_loss: 1.0292 - val_categorical_accuracy: 0.6391\n",
            "Epoch 8/20\n",
            "391/391 [==============================] - 42s 108ms/step - loss: 0.9656 - categorical_accuracy: 0.6633 - val_loss: 1.0338 - val_categorical_accuracy: 0.6370\n",
            "Epoch 9/20\n",
            "391/391 [==============================] - 42s 108ms/step - loss: 0.9389 - categorical_accuracy: 0.6732 - val_loss: 1.0114 - val_categorical_accuracy: 0.6460\n",
            "Epoch 10/20\n",
            "391/391 [==============================] - 42s 108ms/step - loss: 0.9136 - categorical_accuracy: 0.6832 - val_loss: 0.9844 - val_categorical_accuracy: 0.6539\n",
            "Epoch 11/20\n",
            "391/391 [==============================] - 42s 108ms/step - loss: 0.8890 - categorical_accuracy: 0.6908 - val_loss: 0.9801 - val_categorical_accuracy: 0.6586\n",
            "Epoch 12/20\n",
            "391/391 [==============================] - 42s 107ms/step - loss: 0.8704 - categorical_accuracy: 0.6979 - val_loss: 0.9919 - val_categorical_accuracy: 0.6605\n",
            "Epoch 13/20\n",
            "391/391 [==============================] - 41s 105ms/step - loss: 0.8518 - categorical_accuracy: 0.7050 - val_loss: 1.0059 - val_categorical_accuracy: 0.6498\n",
            "Epoch 14/20\n",
            "391/391 [==============================] - 42s 106ms/step - loss: 0.8347 - categorical_accuracy: 0.7097 - val_loss: 0.9714 - val_categorical_accuracy: 0.6655\n",
            "Epoch 15/20\n",
            "391/391 [==============================] - 42s 106ms/step - loss: 0.8145 - categorical_accuracy: 0.7184 - val_loss: 0.9705 - val_categorical_accuracy: 0.6606\n",
            "Epoch 16/20\n",
            "391/391 [==============================] - 42s 106ms/step - loss: 0.7992 - categorical_accuracy: 0.7219 - val_loss: 0.9702 - val_categorical_accuracy: 0.6657\n",
            "Epoch 17/20\n",
            "391/391 [==============================] - 42s 107ms/step - loss: 0.7884 - categorical_accuracy: 0.7278 - val_loss: 0.9718 - val_categorical_accuracy: 0.6724\n",
            "Epoch 18/20\n",
            "391/391 [==============================] - 42s 106ms/step - loss: 0.7739 - categorical_accuracy: 0.7302 - val_loss: 0.9558 - val_categorical_accuracy: 0.6748\n",
            "Epoch 19/20\n",
            "391/391 [==============================] - 42s 107ms/step - loss: 0.7575 - categorical_accuracy: 0.7364 - val_loss: 0.9618 - val_categorical_accuracy: 0.6708\n",
            "Epoch 20/20\n",
            "391/391 [==============================] - 42s 107ms/step - loss: 0.7492 - categorical_accuracy: 0.7408 - val_loss: 0.9788 - val_categorical_accuracy: 0.6697\n"
          ]
        }
      ]
    }
  ]
}